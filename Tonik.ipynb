from suds.client import Client , WebFault, Request
import logging
url = "localhost:5900/services/Masters?wsdl"

#construimos el cliente
client = Client(url)

#declaramos una variable que luego vamos a usar (es un item)
valor=4000 

try:
    client = Client(url)
    
except WebFault as e:
    logger.debug(e)
    raise e

#averiguamos los parametros necesarios para llamar a un determinado metodo

method = client.wsdl.services[0].ports[0].methods["getiteminfo"]
params = method.binding.input.param_defs(method)
print (params)

# listamos los metodos que tiene disponible el wsdl
list_of_methods = [method for method in client.wsdl.services[0].ports[0].methods]

#llammoos al metodo con el parametro declarado
result = client.service.getiteminfo(valor) 

print (result) #pintamos el resultado de la operacion

